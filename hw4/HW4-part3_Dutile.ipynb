{
 "cells": [
  {
   "cell_type": "markdown",
   "metadata": {},
   "source": [
    "# Part 3: Boston Data Exploration\n",
    "\n",
    "### INSTRUCTIONS:\n",
    "Boston data (property assessments, 2017): https://drive.google.com/drive/folders/1UzuC3T8Y5M2DC-Q-d-DWimKJ72vuXjdu?usp=sharing\n",
    "\n",
    "Explore the data, and create an iPython notebook in which you present three visualizations with\n",
    "interesting insights or trends.\n",
    "\n",
    "**As part of these visualizations, you must demonstrate your ability to pick appropriate colors\n",
    "and color scales. Your visualizations must include an example of color coding by each of the\n",
    "three canonical scales: quantitative, diverging, and categorical. (Use of ColorBrewer to pick your\n",
    "color schemes is very strongly recommended.)\n",
    "\n",
    "For each visualization you create, include in a Markup a couple sentences a) describing and\n",
    "justifying your visual encoding / design choices, b) describing what the plot is showing (what is\n",
    "the interesting insight or trend), and c) justifying your color choices.\n",
    "NOTE: Now that we have covered cognitive principles, the importance of text and annotation,\n",
    "and message and data redundancy, we expect you to use these concepts to justify and inform\n",
    "your visualization designs."
   ]
  },
  {
   "cell_type": "markdown",
   "metadata": {},
   "source": [
    "Please Note: I've created 4 visualizations. 3 visualizations exist to cover requirements."
   ]
  },
  {
   "cell_type": "code",
   "execution_count": 1,
   "metadata": {
    "collapsed": true
   },
   "outputs": [],
   "source": [
    "# imports\n",
    "import numpy as np\n",
    "import matplotlib.pyplot as plt\n",
    "import matplotlib.patches as mpatches\n",
    "import pandas as pd"
   ]
  },
  {
   "cell_type": "code",
   "execution_count": 2,
   "metadata": {},
   "outputs": [
    {
     "data": {
      "text/html": [
       "<div>\n",
       "<style>\n",
       "    .dataframe thead tr:only-child th {\n",
       "        text-align: right;\n",
       "    }\n",
       "\n",
       "    .dataframe thead th {\n",
       "        text-align: left;\n",
       "    }\n",
       "\n",
       "    .dataframe tbody tr th {\n",
       "        vertical-align: top;\n",
       "    }\n",
       "</style>\n",
       "<table border=\"1\" class=\"dataframe\">\n",
       "  <thead>\n",
       "    <tr style=\"text-align: right;\">\n",
       "      <th></th>\n",
       "      <th>_id</th>\n",
       "      <th>PID</th>\n",
       "      <th>CM_ID</th>\n",
       "      <th>GIS_ID</th>\n",
       "      <th>ST_NUM</th>\n",
       "      <th>ST_NAME</th>\n",
       "      <th>ST_NAME_SUF</th>\n",
       "      <th>UNIT_NUM</th>\n",
       "      <th>ZIPCODE</th>\n",
       "      <th>PTYPE</th>\n",
       "      <th>...</th>\n",
       "      <th>U_BTH_STYLE2</th>\n",
       "      <th>U_BTH_STYLE3</th>\n",
       "      <th>U_KITCH_TYPE</th>\n",
       "      <th>U_KITCH_STYLE</th>\n",
       "      <th>U_HEAT_TYP</th>\n",
       "      <th>U_AC</th>\n",
       "      <th>U_FPLACE</th>\n",
       "      <th>U_INT_FIN</th>\n",
       "      <th>U_INT_CND</th>\n",
       "      <th>U_VIEW</th>\n",
       "    </tr>\n",
       "  </thead>\n",
       "  <tbody>\n",
       "    <tr>\n",
       "      <th>0</th>\n",
       "      <td>1</td>\n",
       "      <td>0100001000_</td>\n",
       "      <td>NaN</td>\n",
       "      <td>0100001000_</td>\n",
       "      <td>104 A 104</td>\n",
       "      <td>PUTNAM</td>\n",
       "      <td>ST</td>\n",
       "      <td>NaN</td>\n",
       "      <td>02128_</td>\n",
       "      <td>105</td>\n",
       "      <td>...</td>\n",
       "      <td>NaN</td>\n",
       "      <td>NaN</td>\n",
       "      <td>NaN</td>\n",
       "      <td>NaN</td>\n",
       "      <td>NaN</td>\n",
       "      <td>NaN</td>\n",
       "      <td>NaN</td>\n",
       "      <td>NaN</td>\n",
       "      <td>NaN</td>\n",
       "      <td>NaN</td>\n",
       "    </tr>\n",
       "    <tr>\n",
       "      <th>1</th>\n",
       "      <td>2</td>\n",
       "      <td>0100002000_</td>\n",
       "      <td>NaN</td>\n",
       "      <td>0100002000_</td>\n",
       "      <td>197</td>\n",
       "      <td>LEXINGTON</td>\n",
       "      <td>ST</td>\n",
       "      <td>NaN</td>\n",
       "      <td>02128_</td>\n",
       "      <td>105</td>\n",
       "      <td>...</td>\n",
       "      <td>NaN</td>\n",
       "      <td>NaN</td>\n",
       "      <td>NaN</td>\n",
       "      <td>NaN</td>\n",
       "      <td>NaN</td>\n",
       "      <td>NaN</td>\n",
       "      <td>NaN</td>\n",
       "      <td>NaN</td>\n",
       "      <td>NaN</td>\n",
       "      <td>NaN</td>\n",
       "    </tr>\n",
       "    <tr>\n",
       "      <th>2</th>\n",
       "      <td>3</td>\n",
       "      <td>0100003000_</td>\n",
       "      <td>NaN</td>\n",
       "      <td>0100003000_</td>\n",
       "      <td>199</td>\n",
       "      <td>LEXINGTON</td>\n",
       "      <td>ST</td>\n",
       "      <td>NaN</td>\n",
       "      <td>02128_</td>\n",
       "      <td>105</td>\n",
       "      <td>...</td>\n",
       "      <td>NaN</td>\n",
       "      <td>NaN</td>\n",
       "      <td>NaN</td>\n",
       "      <td>NaN</td>\n",
       "      <td>NaN</td>\n",
       "      <td>NaN</td>\n",
       "      <td>NaN</td>\n",
       "      <td>NaN</td>\n",
       "      <td>NaN</td>\n",
       "      <td>NaN</td>\n",
       "    </tr>\n",
       "    <tr>\n",
       "      <th>3</th>\n",
       "      <td>4</td>\n",
       "      <td>0100004000_</td>\n",
       "      <td>NaN</td>\n",
       "      <td>0100004000_</td>\n",
       "      <td>201</td>\n",
       "      <td>LEXINGTON</td>\n",
       "      <td>ST</td>\n",
       "      <td>NaN</td>\n",
       "      <td>02128_</td>\n",
       "      <td>105</td>\n",
       "      <td>...</td>\n",
       "      <td>NaN</td>\n",
       "      <td>NaN</td>\n",
       "      <td>NaN</td>\n",
       "      <td>NaN</td>\n",
       "      <td>NaN</td>\n",
       "      <td>NaN</td>\n",
       "      <td>NaN</td>\n",
       "      <td>NaN</td>\n",
       "      <td>NaN</td>\n",
       "      <td>NaN</td>\n",
       "    </tr>\n",
       "    <tr>\n",
       "      <th>4</th>\n",
       "      <td>5</td>\n",
       "      <td>0100005000_</td>\n",
       "      <td>NaN</td>\n",
       "      <td>0100005000_</td>\n",
       "      <td>203</td>\n",
       "      <td>LEXINGTON</td>\n",
       "      <td>ST</td>\n",
       "      <td>NaN</td>\n",
       "      <td>02128_</td>\n",
       "      <td>104</td>\n",
       "      <td>...</td>\n",
       "      <td>NaN</td>\n",
       "      <td>NaN</td>\n",
       "      <td>NaN</td>\n",
       "      <td>NaN</td>\n",
       "      <td>NaN</td>\n",
       "      <td>NaN</td>\n",
       "      <td>NaN</td>\n",
       "      <td>NaN</td>\n",
       "      <td>NaN</td>\n",
       "      <td>NaN</td>\n",
       "    </tr>\n",
       "  </tbody>\n",
       "</table>\n",
       "<p>5 rows × 76 columns</p>\n",
       "</div>"
      ],
      "text/plain": [
       "   _id          PID CM_ID       GIS_ID     ST_NUM    ST_NAME ST_NAME_SUF  \\\n",
       "0    1  0100001000_   NaN  0100001000_  104 A 104     PUTNAM          ST   \n",
       "1    2  0100002000_   NaN  0100002000_        197  LEXINGTON          ST   \n",
       "2    3  0100003000_   NaN  0100003000_        199  LEXINGTON          ST   \n",
       "3    4  0100004000_   NaN  0100004000_        201  LEXINGTON          ST   \n",
       "4    5  0100005000_   NaN  0100005000_        203  LEXINGTON          ST   \n",
       "\n",
       "  UNIT_NUM ZIPCODE  PTYPE   ...   U_BTH_STYLE2 U_BTH_STYLE3 U_KITCH_TYPE  \\\n",
       "0      NaN  02128_    105   ...            NaN          NaN          NaN   \n",
       "1      NaN  02128_    105   ...            NaN          NaN          NaN   \n",
       "2      NaN  02128_    105   ...            NaN          NaN          NaN   \n",
       "3      NaN  02128_    105   ...            NaN          NaN          NaN   \n",
       "4      NaN  02128_    104   ...            NaN          NaN          NaN   \n",
       "\n",
       "  U_KITCH_STYLE U_HEAT_TYP U_AC U_FPLACE  U_INT_FIN  U_INT_CND  U_VIEW  \n",
       "0           NaN        NaN  NaN      NaN        NaN        NaN     NaN  \n",
       "1           NaN        NaN  NaN      NaN        NaN        NaN     NaN  \n",
       "2           NaN        NaN  NaN      NaN        NaN        NaN     NaN  \n",
       "3           NaN        NaN  NaN      NaN        NaN        NaN     NaN  \n",
       "4           NaN        NaN  NaN      NaN        NaN        NaN     NaN  \n",
       "\n",
       "[5 rows x 76 columns]"
      ]
     },
     "execution_count": 2,
     "metadata": {},
     "output_type": "execute_result"
    }
   ],
   "source": [
    "# read in the data and perform some data exploration\n",
    "df = pd.read_csv(\"/Users/emilydutile/repositories/info-viz/hw4/property_assesment.csv\")\n",
    "df.head()"
   ]
  },
  {
   "cell_type": "code",
   "execution_count": 3,
   "metadata": {},
   "outputs": [
    {
     "data": {
      "text/plain": [
       "(500, 76)"
      ]
     },
     "execution_count": 3,
     "metadata": {},
     "output_type": "execute_result"
    }
   ],
   "source": [
    "# check out rows and columns\n",
    "df.shape"
   ]
  },
  {
   "cell_type": "code",
   "execution_count": 4,
   "metadata": {},
   "outputs": [
    {
     "data": {
      "text/html": [
       "<div>\n",
       "<style>\n",
       "    .dataframe thead tr:only-child th {\n",
       "        text-align: right;\n",
       "    }\n",
       "\n",
       "    .dataframe thead th {\n",
       "        text-align: left;\n",
       "    }\n",
       "\n",
       "    .dataframe tbody tr th {\n",
       "        vertical-align: top;\n",
       "    }\n",
       "</style>\n",
       "<table border=\"1\" class=\"dataframe\">\n",
       "  <thead>\n",
       "    <tr style=\"text-align: right;\">\n",
       "      <th></th>\n",
       "      <th>_id</th>\n",
       "      <th>PTYPE</th>\n",
       "      <th>AV_LAND</th>\n",
       "      <th>AV_BLDG</th>\n",
       "      <th>AV_TOTAL</th>\n",
       "      <th>GROSS_TAX</th>\n",
       "      <th>LAND_SF</th>\n",
       "      <th>YR_BUILT</th>\n",
       "      <th>YR_REMOD</th>\n",
       "      <th>GROSS_AREA</th>\n",
       "      <th>...</th>\n",
       "      <th>S_UNIT_RES</th>\n",
       "      <th>S_UNIT_COM</th>\n",
       "      <th>S_UNIT_RC</th>\n",
       "      <th>U_BASE_FLOOR</th>\n",
       "      <th>U_NUM_PARK</th>\n",
       "      <th>U_TOT_RMS</th>\n",
       "      <th>U_BDRMS</th>\n",
       "      <th>U_FULL_BTH</th>\n",
       "      <th>U_HALF_BTH</th>\n",
       "      <th>U_FPLACE</th>\n",
       "    </tr>\n",
       "  </thead>\n",
       "  <tbody>\n",
       "    <tr>\n",
       "      <th>count</th>\n",
       "      <td>500.000000</td>\n",
       "      <td>500.00000</td>\n",
       "      <td>5.000000e+02</td>\n",
       "      <td>5.000000e+02</td>\n",
       "      <td>5.000000e+02</td>\n",
       "      <td>5.000000e+02</td>\n",
       "      <td>493.000000</td>\n",
       "      <td>489.000000</td>\n",
       "      <td>433.000000</td>\n",
       "      <td>4.940000e+02</td>\n",
       "      <td>...</td>\n",
       "      <td>20.000000</td>\n",
       "      <td>20.0</td>\n",
       "      <td>20.0</td>\n",
       "      <td>131.000000</td>\n",
       "      <td>131.000000</td>\n",
       "      <td>131.000000</td>\n",
       "      <td>131.000000</td>\n",
       "      <td>131.000000</td>\n",
       "      <td>131.000000</td>\n",
       "      <td>131.000000</td>\n",
       "    </tr>\n",
       "    <tr>\n",
       "      <th>mean</th>\n",
       "      <td>250.500000</td>\n",
       "      <td>200.39800</td>\n",
       "      <td>4.975991e+05</td>\n",
       "      <td>1.059858e+06</td>\n",
       "      <td>1.557457e+06</td>\n",
       "      <td>4.819454e+05</td>\n",
       "      <td>3250.468560</td>\n",
       "      <td>1840.952965</td>\n",
       "      <td>1321.478060</td>\n",
       "      <td>7.093704e+03</td>\n",
       "      <td>...</td>\n",
       "      <td>6.300000</td>\n",
       "      <td>0.0</td>\n",
       "      <td>0.0</td>\n",
       "      <td>2.061069</td>\n",
       "      <td>0.076336</td>\n",
       "      <td>3.580153</td>\n",
       "      <td>1.465649</td>\n",
       "      <td>1.053435</td>\n",
       "      <td>0.068702</td>\n",
       "      <td>0.290076</td>\n",
       "    </tr>\n",
       "    <tr>\n",
       "      <th>std</th>\n",
       "      <td>144.481833</td>\n",
       "      <td>261.54048</td>\n",
       "      <td>5.291472e+06</td>\n",
       "      <td>1.061699e+07</td>\n",
       "      <td>1.589434e+07</td>\n",
       "      <td>5.401253e+05</td>\n",
       "      <td>22715.791088</td>\n",
       "      <td>361.402351</td>\n",
       "      <td>943.683075</td>\n",
       "      <td>5.682859e+04</td>\n",
       "      <td>...</td>\n",
       "      <td>5.611079</td>\n",
       "      <td>0.0</td>\n",
       "      <td>0.0</td>\n",
       "      <td>1.345967</td>\n",
       "      <td>0.319093</td>\n",
       "      <td>1.122869</td>\n",
       "      <td>0.693904</td>\n",
       "      <td>0.225763</td>\n",
       "      <td>0.253918</td>\n",
       "      <td>0.533328</td>\n",
       "    </tr>\n",
       "    <tr>\n",
       "      <th>min</th>\n",
       "      <td>1.000000</td>\n",
       "      <td>13.00000</td>\n",
       "      <td>0.000000e+00</td>\n",
       "      <td>0.000000e+00</td>\n",
       "      <td>0.000000e+00</td>\n",
       "      <td>0.000000e+00</td>\n",
       "      <td>260.000000</td>\n",
       "      <td>0.000000</td>\n",
       "      <td>0.000000</td>\n",
       "      <td>0.000000e+00</td>\n",
       "      <td>...</td>\n",
       "      <td>2.000000</td>\n",
       "      <td>0.0</td>\n",
       "      <td>0.0</td>\n",
       "      <td>0.000000</td>\n",
       "      <td>0.000000</td>\n",
       "      <td>1.000000</td>\n",
       "      <td>0.000000</td>\n",
       "      <td>1.000000</td>\n",
       "      <td>0.000000</td>\n",
       "      <td>0.000000</td>\n",
       "    </tr>\n",
       "    <tr>\n",
       "      <th>25%</th>\n",
       "      <td>125.750000</td>\n",
       "      <td>102.00000</td>\n",
       "      <td>0.000000e+00</td>\n",
       "      <td>2.120500e+05</td>\n",
       "      <td>2.847750e+05</td>\n",
       "      <td>2.725072e+05</td>\n",
       "      <td>1088.000000</td>\n",
       "      <td>1899.000000</td>\n",
       "      <td>0.000000</td>\n",
       "      <td>7.657500e+02</td>\n",
       "      <td>...</td>\n",
       "      <td>3.000000</td>\n",
       "      <td>0.0</td>\n",
       "      <td>0.0</td>\n",
       "      <td>1.000000</td>\n",
       "      <td>0.000000</td>\n",
       "      <td>3.000000</td>\n",
       "      <td>1.000000</td>\n",
       "      <td>1.000000</td>\n",
       "      <td>0.000000</td>\n",
       "      <td>0.000000</td>\n",
       "    </tr>\n",
       "    <tr>\n",
       "      <th>50%</th>\n",
       "      <td>250.500000</td>\n",
       "      <td>105.00000</td>\n",
       "      <td>1.219000e+05</td>\n",
       "      <td>3.013500e+05</td>\n",
       "      <td>4.214000e+05</td>\n",
       "      <td>4.396965e+05</td>\n",
       "      <td>1799.000000</td>\n",
       "      <td>1900.000000</td>\n",
       "      <td>1985.000000</td>\n",
       "      <td>2.938500e+03</td>\n",
       "      <td>...</td>\n",
       "      <td>4.500000</td>\n",
       "      <td>0.0</td>\n",
       "      <td>0.0</td>\n",
       "      <td>2.000000</td>\n",
       "      <td>0.000000</td>\n",
       "      <td>4.000000</td>\n",
       "      <td>1.000000</td>\n",
       "      <td>1.000000</td>\n",
       "      <td>0.000000</td>\n",
       "      <td>0.000000</td>\n",
       "    </tr>\n",
       "    <tr>\n",
       "      <th>75%</th>\n",
       "      <td>375.250000</td>\n",
       "      <td>105.00000</td>\n",
       "      <td>1.565250e+05</td>\n",
       "      <td>4.033250e+05</td>\n",
       "      <td>5.180095e+05</td>\n",
       "      <td>5.403805e+05</td>\n",
       "      <td>2500.000000</td>\n",
       "      <td>1910.000000</td>\n",
       "      <td>1999.000000</td>\n",
       "      <td>4.452000e+03</td>\n",
       "      <td>...</td>\n",
       "      <td>6.750000</td>\n",
       "      <td>0.0</td>\n",
       "      <td>0.0</td>\n",
       "      <td>3.000000</td>\n",
       "      <td>0.000000</td>\n",
       "      <td>4.000000</td>\n",
       "      <td>2.000000</td>\n",
       "      <td>1.000000</td>\n",
       "      <td>0.000000</td>\n",
       "      <td>0.500000</td>\n",
       "    </tr>\n",
       "    <tr>\n",
       "      <th>max</th>\n",
       "      <td>500.000000</td>\n",
       "      <td>995.00000</td>\n",
       "      <td>1.162948e+08</td>\n",
       "      <td>2.346967e+08</td>\n",
       "      <td>3.509915e+08</td>\n",
       "      <td>6.204386e+06</td>\n",
       "      <td>502965.000000</td>\n",
       "      <td>2015.000000</td>\n",
       "      <td>2016.000000</td>\n",
       "      <td>1.232512e+06</td>\n",
       "      <td>...</td>\n",
       "      <td>27.000000</td>\n",
       "      <td>0.0</td>\n",
       "      <td>0.0</td>\n",
       "      <td>5.000000</td>\n",
       "      <td>2.000000</td>\n",
       "      <td>6.000000</td>\n",
       "      <td>3.000000</td>\n",
       "      <td>2.000000</td>\n",
       "      <td>1.000000</td>\n",
       "      <td>2.000000</td>\n",
       "    </tr>\n",
       "  </tbody>\n",
       "</table>\n",
       "<p>8 rows × 29 columns</p>\n",
       "</div>"
      ],
      "text/plain": [
       "              _id      PTYPE       AV_LAND       AV_BLDG      AV_TOTAL  \\\n",
       "count  500.000000  500.00000  5.000000e+02  5.000000e+02  5.000000e+02   \n",
       "mean   250.500000  200.39800  4.975991e+05  1.059858e+06  1.557457e+06   \n",
       "std    144.481833  261.54048  5.291472e+06  1.061699e+07  1.589434e+07   \n",
       "min      1.000000   13.00000  0.000000e+00  0.000000e+00  0.000000e+00   \n",
       "25%    125.750000  102.00000  0.000000e+00  2.120500e+05  2.847750e+05   \n",
       "50%    250.500000  105.00000  1.219000e+05  3.013500e+05  4.214000e+05   \n",
       "75%    375.250000  105.00000  1.565250e+05  4.033250e+05  5.180095e+05   \n",
       "max    500.000000  995.00000  1.162948e+08  2.346967e+08  3.509915e+08   \n",
       "\n",
       "          GROSS_TAX        LAND_SF     YR_BUILT     YR_REMOD    GROSS_AREA  \\\n",
       "count  5.000000e+02     493.000000   489.000000   433.000000  4.940000e+02   \n",
       "mean   4.819454e+05    3250.468560  1840.952965  1321.478060  7.093704e+03   \n",
       "std    5.401253e+05   22715.791088   361.402351   943.683075  5.682859e+04   \n",
       "min    0.000000e+00     260.000000     0.000000     0.000000  0.000000e+00   \n",
       "25%    2.725072e+05    1088.000000  1899.000000     0.000000  7.657500e+02   \n",
       "50%    4.396965e+05    1799.000000  1900.000000  1985.000000  2.938500e+03   \n",
       "75%    5.403805e+05    2500.000000  1910.000000  1999.000000  4.452000e+03   \n",
       "max    6.204386e+06  502965.000000  2015.000000  2016.000000  1.232512e+06   \n",
       "\n",
       "          ...      S_UNIT_RES  S_UNIT_COM  S_UNIT_RC  U_BASE_FLOOR  \\\n",
       "count     ...       20.000000        20.0       20.0    131.000000   \n",
       "mean      ...        6.300000         0.0        0.0      2.061069   \n",
       "std       ...        5.611079         0.0        0.0      1.345967   \n",
       "min       ...        2.000000         0.0        0.0      0.000000   \n",
       "25%       ...        3.000000         0.0        0.0      1.000000   \n",
       "50%       ...        4.500000         0.0        0.0      2.000000   \n",
       "75%       ...        6.750000         0.0        0.0      3.000000   \n",
       "max       ...       27.000000         0.0        0.0      5.000000   \n",
       "\n",
       "       U_NUM_PARK   U_TOT_RMS     U_BDRMS  U_FULL_BTH  U_HALF_BTH    U_FPLACE  \n",
       "count  131.000000  131.000000  131.000000  131.000000  131.000000  131.000000  \n",
       "mean     0.076336    3.580153    1.465649    1.053435    0.068702    0.290076  \n",
       "std      0.319093    1.122869    0.693904    0.225763    0.253918    0.533328  \n",
       "min      0.000000    1.000000    0.000000    1.000000    0.000000    0.000000  \n",
       "25%      0.000000    3.000000    1.000000    1.000000    0.000000    0.000000  \n",
       "50%      0.000000    4.000000    1.000000    1.000000    0.000000    0.000000  \n",
       "75%      0.000000    4.000000    2.000000    1.000000    0.000000    0.500000  \n",
       "max      2.000000    6.000000    3.000000    2.000000    1.000000    2.000000  \n",
       "\n",
       "[8 rows x 29 columns]"
      ]
     },
     "execution_count": 4,
     "metadata": {},
     "output_type": "execute_result"
    }
   ],
   "source": [
    "# get an idea of the data\n",
    "df.describe()"
   ]
  },
  {
   "cell_type": "code",
   "execution_count": 5,
   "metadata": {},
   "outputs": [
    {
     "data": {
      "text/plain": [
       "3"
      ]
     },
     "execution_count": 5,
     "metadata": {},
     "output_type": "execute_result"
    }
   ],
   "source": [
    "# count unique zipcodes\n",
    "df.ZIPCODE.nunique()"
   ]
  },
  {
   "cell_type": "code",
   "execution_count": 6,
   "metadata": {},
   "outputs": [
    {
     "data": {
      "text/plain": [
       "array(['02128_', '02115_', '02215_'], dtype=object)"
      ]
     },
     "execution_count": 6,
     "metadata": {},
     "output_type": "execute_result"
    }
   ],
   "source": [
    "df.ZIPCODE.unique()"
   ]
  },
  {
   "cell_type": "markdown",
   "metadata": {},
   "source": [
    "## 1. Square footage vs Cost in different towns (zip codes)\n",
    "\n",
    "The idea of this visualization is to look to see how the properties assessed amoung the different towns compare to one another with respect to size (living area) and total property assessment (cost). To visualize this, a scatterplot was used by encoding the towns by zipcode in a categorical color map. The cost of the property in comparison to its sized based upon location is definitely interested (and expected, knowing the Boston market a bit). The East Boston (02128) area looks to have the more affortable housing per square footage, while Back Bay (02115) is the most expensive per square foot."
   ]
  },
  {
   "cell_type": "code",
   "execution_count": 7,
   "metadata": {
    "collapsed": true
   },
   "outputs": [],
   "source": [
    "# create empty arrays for processing\n",
    "total = [0]*500\n",
    "area = [0]*500\n",
    "colors = ['#000']*500\n",
    "\n",
    "# process the data and assign colors\n",
    "for i in range(0,500):\n",
    "        area[i] = df.LIVING_AREA.iloc[i]\n",
    "        total[i] = df.AV_TOTAL.iloc[i]\n",
    "        if (df.ZIPCODE[i] == '02128_'):\n",
    "            colors[i]='#ffff99'\n",
    "        elif (df.ZIPCODE[i] == '02115_'):\n",
    "            colors[i]='#8dd3c7'\n",
    "        elif (df.ZIPCODE[i] == '02215_'):\n",
    "            colors[i]='#bebada'"
   ]
  },
  {
   "cell_type": "code",
   "execution_count": 8,
   "metadata": {},
   "outputs": [
    {
     "data": {
      "image/png": "[encoded data removed]",
      "text/plain": [
       "<matplotlib.figure.Figure at 0x10ecb2fd0>"
      ]
     },
     "metadata": {},
     "output_type": "display_data"
    }
   ],
   "source": [
    "# plot the data for visualization 1\n",
    "plt.figure(figsize=(5,5))            \n",
    "plt.ylabel('Living Area')\n",
    "plt.xlabel('Total Property Value')\n",
    "plt.title('Living Area vs Cost')\n",
    "c1 = mpatches.Patch(color='#ffff99', label='02128')\n",
    "c2 = mpatches.Patch(color='#8dd3c7', label='02115')\n",
    "c3 = mpatches.Patch(color='#bebada', label='02215')\n",
    "plt.legend(handles=[c1, c2, c3])\n",
    "plt.scatter(total, area, c=colors)\n",
    "plt.show()"
   ]
  },
  {
   "cell_type": "markdown",
   "metadata": {},
   "source": [
    "## 2. Number of properties per town (zip code)\n",
    "\n",
    "To see the number of properties assessed in each town, I decided to make a simple bar chart and use a categorical color map in order to more easily tell which town (area code) is which. As anticipated with supply and demand, it looks like there are fewer homes in the Back Bay area, which makes sense that price would be driven up - but I'm not sure how this property assessment data was gathered, meaning, are these homes newly sold or on the market, etc."
   ]
  },
  {
   "cell_type": "code",
   "execution_count": 9,
   "metadata": {
    "scrolled": true
   },
   "outputs": [
    {
     "name": "stdout",
     "output_type": "stream",
     "text": [
      "02128_    324\n",
      "02115_    107\n",
      "02215_     69\n",
      "Name: ZIPCODE, dtype: int64\n"
     ]
    }
   ],
   "source": [
    "# get the zip codes to plot the data\n",
    "zipcode_counts = df['ZIPCODE'].value_counts()\n",
    "print(zipcode_counts)"
   ]
  },
  {
   "cell_type": "code",
   "execution_count": 10,
   "metadata": {},
   "outputs": [
    {
     "data": {
      "image/png": "[encoded data removed]",
      "text/plain": [
       "<matplotlib.figure.Figure at 0x108a45cf8>"
      ]
     },
     "metadata": {},
     "output_type": "display_data"
    }
   ],
   "source": [
    "# plot the data\n",
    "a1 = zipcode_counts[0]\n",
    "a2 = zipcode_counts[1]\n",
    "a3 = zipcode_counts[2]\n",
    "barlist = plt.bar(['02128','02115','02215'],[a1,a2,a3])\n",
    "barlist[0].set_color('#a6cee3')\n",
    "barlist[1].set_color('#1f78b4')\n",
    "barlist[2].set_color('#b2df8a')\n",
    "plt.show()"
   ]
  },
  {
   "cell_type": "markdown",
   "metadata": {},
   "source": [
    "## 3. Square footage, year built/remodeled and value assessment\n",
    "\n",
    "This visualization focusing on the square footage (living area) of a home, the year it was built/remodeled, and the total property value (cost/price). Using a scatterplot, the data is encoded with a quantitative color map (from colorbrewer) to show the price ranges. Due to some missing data, there are some points that show a high price point but the living area is 0, so it misconstrues the graph data. As expected, we see a lot of homes that are larger is size being much more costly (a higher overall property assessment)."
   ]
  },
  {
   "cell_type": "code",
   "execution_count": 11,
   "metadata": {
    "collapsed": true
   },
   "outputs": [],
   "source": [
    "# create empty arrays for processing\n",
    "year = [0]*500\n",
    "area = [0]*500\n",
    "colors = ['#']*500\n",
    "\n",
    "# process the data and assign colors\n",
    "for i in range(0,500):\n",
    "        area[i]= df.LIVING_AREA.iloc[i]\n",
    "        if area[i]==0: \n",
    "            area[i]=np.mean(df.LIVING_AREA)\n",
    "        year[i] = max(df.YR_BUILT.iloc[i], df.YR_REMOD.iloc[i])\n",
    "        if year[i]==0: \n",
    "            year[i]=np.mean(df.YR_BUILT)\n",
    "        if (df.AV_TOTAL[i] >= 0 and df.AV_TOTAL[i] < 100000): \n",
    "            colors[i]='#fff7f3'\n",
    "        elif (df.AV_TOTAL[i] >= 100000 and df.AV_TOTAL[i] < 200000): \n",
    "            colors[i]='#fde0dd'\n",
    "        elif (df.AV_TOTAL[i] >= 200000 and df.AV_TOTAL[i] < 300000): \n",
    "            colors[i]='#fcc5c0'\n",
    "        elif (df.AV_TOTAL[i] >= 300000 and df.AV_TOTAL[i] < 400000): \n",
    "            colors[i]='#fa9fb5'\n",
    "        elif (df.AV_TOTAL[i] >= 400000 and df.AV_TOTAL[i] < 500000): \n",
    "            colors[i]='#f768a1'\n",
    "        elif (df.AV_TOTAL[i] >= 500000 and df.AV_TOTAL[i] < 600000): \n",
    "            colors[i]='#dd3497'\n",
    "        elif (df.AV_TOTAL[i] >= 600000 and df.AV_TOTAL[i] < 700000): \n",
    "            colors[i]='#ae017e'\n",
    "        elif (df.AV_TOTAL[i] >= 700000 and df.AV_TOTAL[i] < 800000): \n",
    "            colors[i]='#7a0177'\n",
    "        else: \n",
    "            colors[i]='#49006a'"
   ]
  },
  {
   "cell_type": "code",
   "execution_count": 12,
   "metadata": {},
   "outputs": [
    {
     "data": {
      "image/png": "[encoded data removed]",
      "text/plain": [
       "<matplotlib.figure.Figure at 0x108a73898>"
      ]
     },
     "metadata": {},
     "output_type": "display_data"
    }
   ],
   "source": [
    "# plot the data for visualization 3\n",
    "plt.figure(figsize=(8,5))            \n",
    "plt.ylabel('Living Area')\n",
    "plt.xlabel('Year Built / Renovated')\n",
    "plt.title('Sq footage vs Year Built')\n",
    "c1 = mpatches.Patch(color='#fff7f3', label='$0-99,999')\n",
    "c2 = mpatches.Patch(color='#fde0dd', label='$100,000-199,999')\n",
    "c3 = mpatches.Patch(color='#fcc5c0', label='$200,000-299,999')\n",
    "c4 = mpatches.Patch(color='#fa9fb5', label='$300,000-399,999')\n",
    "c5 = mpatches.Patch(color='#f768a1', label='$400,000-499,999')\n",
    "c6 = mpatches.Patch(color='#dd3497', label='$500,000-599,999')\n",
    "c7 = mpatches.Patch(color='#ae017e', label='$600,000-699,999')\n",
    "c8 = mpatches.Patch(color='#7a0177', label='$700,000-799,999')\n",
    "c9 = mpatches.Patch(color='#49006a', label='+ $800,000')\n",
    "plt.legend(handles=[c1, c2, c3, c4, c5, c6,c7,c8,c9])\n",
    "plt.scatter(year, area, c=colors)\n",
    "plt.show()"
   ]
  },
  {
   "cell_type": "markdown",
   "metadata": {},
   "source": [
    "## 4. Property Value, Year Built and Condition\n",
    "\n",
    "Finally, we're going to look at the property value, which year it was built/remodeled and use a diverging color map in order to shed some light into the house condition. With the rating of poor to excellent, a diverging color map gives equal emphasis on mid-range critical values and\n",
    "extremes. It's fairly expected to see the majority of the houses in average to good condition, and the more recently built/renovated homes look to be in better condition."
   ]
  },
  {
   "cell_type": "code",
   "execution_count": 13,
   "metadata": {
    "collapsed": true
   },
   "outputs": [],
   "source": [
    "# create empty arrays for processing\n",
    "year = [0]*500\n",
    "value = [0]*500\n",
    "colors = ['#000000']*500\n",
    "\n",
    "# process the data and assign colors\n",
    "for i in range(0,500):\n",
    "        value[i]= df.AV_TOTAL.iloc[i]\n",
    "        if value[i]==0:\n",
    "            value[i]=np.mean(df.AV_TOTAL)\n",
    "        year[i] = max(df.YR_BUILT.iloc[i], df.YR_REMOD.iloc[i])\n",
    "        if year[i] == 0:\n",
    "            year[i]=np.mean(df.YR_BUILT)\n",
    "        if (df.R_INT_CND[i]=='E' or df.U_INT_CND[i]=='E'): \n",
    "            colors[i]='#1a9641'\n",
    "        elif (df.R_INT_CND[i]=='G' or df.U_INT_CND[i]=='G'): \n",
    "            colors[i]='#a6d96a'\n",
    "        elif (df.R_INT_CND[i]=='A' or df.U_INT_CND[i]=='A'): \n",
    "            colors[i]='#ffffbf'\n",
    "        elif (df.R_INT_CND[i]=='F' or df.U_INT_CND[i]=='F'): \n",
    "            colors[i]='#fdae61'\n",
    "        elif (df.R_INT_CND[i]=='P' or df.U_INT_CND[i]=='P'): \n",
    "            colors[i]='#d7191c'"
   ]
  },
  {
   "cell_type": "code",
   "execution_count": 14,
   "metadata": {
    "collapsed": true
   },
   "outputs": [],
   "source": [
    "# process the data\n",
    "k=0\n",
    "keep = [True]*499\n",
    "count=0\n",
    "for i in range(0,499):\n",
    "    if colors[i] == '#000000':\n",
    "        keep[i] = False\n",
    "    else: \n",
    "        count += 1\n",
    "\n",
    "newYear = [2017]*count\n",
    "newVal = [2000000]*count\n",
    "newColors = ['#ffffff']*count\n",
    "for i in range(0,count):\n",
    "    if keep[i] == True:\n",
    "        newYear[k]=year[i]\n",
    "        newVal[k]=value[i]\n",
    "        newColors[k]=colors[i]\n",
    "        k = k+1"
   ]
  },
  {
   "cell_type": "code",
   "execution_count": 15,
   "metadata": {},
   "outputs": [
    {
     "data": {
      "image/png": "[encoded data removed]",
      "text/plain": [
       "<matplotlib.figure.Figure at 0x111dac978>"
      ]
     },
     "metadata": {},
     "output_type": "display_data"
    }
   ],
   "source": [
    "# plot the data for visaluzation 4\n",
    "plt.figure(figsize=(15,5))\n",
    "plt.ylabel('Assessed Value of Property')\n",
    "plt.xlabel('Year Built/Renovated')\n",
    "plt.title('Total Assessed Value vs Year - Showing Condition')\n",
    "c1 = mpatches.Patch(color='#1a9641', label='Excellent')\n",
    "c2 = mpatches.Patch(color='#a6d96a', label='Good')\n",
    "c3 = mpatches.Patch(color='#ffffbf', label='Average')\n",
    "c4 = mpatches.Patch(color='#fdae61', label='Fair')\n",
    "c5 = mpatches.Patch(color='#d7191c', label='Poor')\n",
    "plt.legend(handles=[c1, c2, c3, c4, c5])\n",
    "plt.scatter(newYear, newVal, c=newColors)\n",
    "plt.show()"
   ]
  },
  {
   "cell_type": "code",
   "execution_count": null,
   "metadata": {
    "collapsed": true
   },
   "outputs": [],
   "source": []
  }
 ],
 "metadata": {
  "kernelspec": {
   "display_name": "Python 3",
   "language": "python",
   "name": "python3"
  },
  "language_info": {
   "codemirror_mode": {
    "name": "ipython",
    "version": 3
   },
   "file_extension": ".py",
   "mimetype": "text/x-python",
   "name": "python",
   "nbconvert_exporter": "python",
   "pygments_lexer": "ipython3",
   "version": "3.6.3"
  }
 },
 "nbformat": 4,
 "nbformat_minor": 2
}
